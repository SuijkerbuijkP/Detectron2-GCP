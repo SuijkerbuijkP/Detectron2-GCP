{
 "cells": [
  {
   "cell_type": "code",
   "execution_count": null,
   "id": "portuguese-bishop",
   "metadata": {},
   "outputs": [],
   "source": [
    "import detectron2\n",
    "\n",
    "# import some common libraries\n",
    "import matplotlib.pyplot as plt\n",
    "import numpy as np\n",
    "import cv2\n",
    "\n",
    "# import some common detectron2 utilities\n",
    "from detectron2.utils.visualizer import Visualizer\n",
    "from pycocotools import mask as maskUtils\n",
    "from detectron2.data import MetadataCatalog, DatasetCatalog"
   ]
  },
  {
   "cell_type": "code",
   "execution_count": null,
   "id": "comprehensive-float",
   "metadata": {},
   "outputs": [],
   "source": [
    "from detectron2.data.datasets import register_coco_instances\n",
    "register_coco_instances(\"car_damage\", {}, \"../data/test.json\", \"../data/test\")"
   ]
  },
  {
   "cell_type": "code",
   "execution_count": null,
   "id": "featured-discovery",
   "metadata": {},
   "outputs": [],
   "source": [
    "fruits_nuts_metadata = MetadataCatalog.get(\"car_damage\")\n",
    "dataset_dicts = DatasetCatalog.get(\"car_damage\")"
   ]
  },
  {
   "cell_type": "code",
   "execution_count": null,
   "id": "pressed-group",
   "metadata": {
    "scrolled": true
   },
   "outputs": [],
   "source": [
    "import random\n",
    "\n",
    "for d in dataset_dicts:\n",
    "    img = cv2.imread(d['file_name'])\n",
    "    visualizer = Visualizer(img[:, :, ::-1], metadata=fruits_nuts_metadata, scale=0.5)\n",
    "    vis = visualizer.draw_dataset_dict(d)\n",
    "    plt.imshow(cv2.cvtColor(vis.get_image()[:, :, ::-1], cv2.COLOR_BGR2RGB), interpolation='nearest', aspect='auto')\n",
    "    plt.show()"
   ]
  },
  {
   "cell_type": "code",
   "execution_count": null,
   "id": "later-column",
   "metadata": {},
   "outputs": [],
   "source": []
  }
 ],
 "metadata": {
  "kernelspec": {
   "display_name": "d2",
   "language": "python",
   "name": "d2"
  },
  "language_info": {
   "codemirror_mode": {
    "name": "ipython",
    "version": 3
   },
   "file_extension": ".py",
   "mimetype": "text/x-python",
   "name": "python",
   "nbconvert_exporter": "python",
   "pygments_lexer": "ipython3",
   "version": "3.8.8"
  }
 },
 "nbformat": 4,
 "nbformat_minor": 5
}
